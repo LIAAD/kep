{
 "cells": [
  {
   "cell_type": "markdown",
   "metadata": {
    "slideshow": {
     "slide_type": "skip"
    }
   },
   "source": [
    "<div style=\"border: 1px solid black\">\n",
    "<b><center><font size=\"5\">Instituto Politécnico de Tomar</font></center></b>\n",
    "<br>\n",
    "<center><font size=\"4\">Unidade Departamental de Tecnologias de Informação e Comunicação</font></center>\n",
    "</div>"
   ]
  },
  {
   "cell_type": "markdown",
   "metadata": {
    "slideshow": {
     "slide_type": "skip"
    }
   },
   "source": [
    "<b><center><font size=\"4\">RAKE</font></center></b>\n",
    "<center><font size=\"3\">https://github.com/zelandiya/RAKE-tutorial</font></center>\n",
    "<hr>"
   ]
  },
  {
   "cell_type": "markdown",
   "metadata": {
    "slideshow": {
     "slide_type": "skip"
    }
   },
   "source": [
    "Developed by: [Ricardo Campos](http://www.ccc.ipt.pt/~ricardo)\n",
    "\n",
    "[Home](http://www.ccc.ipt.pt/~ricardo/Text2Analytics/)\n",
    "\n",
    "<p><a href=\"1YAKE.ipynb\" title=\"Download Notebook\" download><img src=\"../../images/download.jpg\" align = \"left\" width=\"50\" height=\"50\" alt=\"Download Notebook\"></a></p>\n",
    "<p>&nbsp;</p>\n",
    "<p>&nbsp;</p>\n",
    "\n",
    "<hr>"
   ]
  },
  {
   "cell_type": "markdown",
   "metadata": {
    "toc": true
   },
   "source": [
    "<h1>Table of Contents<span class=\"tocSkip\"></span></h1>\n",
    "<div class=\"toc\"><ul class=\"toc-item\"><li><span><a href=\"#Installation\" data-toc-modified-id=\"Installation-1\"><span class=\"toc-item-num\">1&nbsp;&nbsp;</span>Installation</a></span></li><li><span><a href=\"#HELP\" data-toc-modified-id=\"HELP-2\"><span class=\"toc-item-num\">2&nbsp;&nbsp;</span>HELP</a></span></li><li><span><a href=\"#Run-in-Code\" data-toc-modified-id=\"Run-in-Code-3\"><span class=\"toc-item-num\">3&nbsp;&nbsp;</span>Run in Code</a></span></li><li><span><a href=\"#Run-as-Client\" data-toc-modified-id=\"Run-as-Client-4\"><span class=\"toc-item-num\">4&nbsp;&nbsp;</span>Run as Client</a></span></li></ul></div>"
   ]
  },
  {
   "cell_type": "code",
   "execution_count": null,
   "metadata": {},
   "outputs": [],
   "source": []
  },
  {
   "cell_type": "markdown",
   "metadata": {
    "slideshow": {
     "slide_type": "slide"
    }
   },
   "source": [
    "## Installation"
   ]
  },
  {
   "cell_type": "code",
   "execution_count": null,
   "metadata": {},
   "outputs": [],
   "source": [
    "!pip install git+http://github.com/LIAAD/yake\n",
    "\n",
    "#no caso de já ter instalado o package previamente e quiser fazer um update\n",
    "!pip install git+http://github.com/LIAAD/yake --upgrade"
   ]
  },
  {
   "cell_type": "markdown",
   "metadata": {},
   "source": [
    "## HELP"
   ]
  },
  {
   "cell_type": "markdown",
   "metadata": {},
   "source": [
    "Para obter ajuda sobre o módulo execute uma das seguintes linhas de código:"
   ]
  },
  {
   "cell_type": "code",
   "execution_count": null,
   "metadata": {},
   "outputs": [],
   "source": [
    "help(YakeKW)\n",
    "YakeKW?"
   ]
  },
  {
   "cell_type": "markdown",
   "metadata": {},
   "source": [
    "## Run in Code"
   ]
  },
  {
   "cell_type": "code",
   "execution_count": 1,
   "metadata": {},
   "outputs": [
    {
     "data": {
      "text/plain": [
       "[(0.005240218636588412, 'machine learning competitions'),\n",
       " (0.007231800172852763, 'hosts data science'),\n",
       " (0.02651298908496934, 'learning competitions'),\n",
       " (0.03633877348319309, 'platform that hosts'),\n",
       " (0.03633877348319309, 'hosts data'),\n",
       " (0.03633877348319309, 'data science'),\n",
       " (0.03633877348319309, 'science and machine'),\n",
       " (0.03633877348319309, 'machine learning'),\n",
       " (0.03727546242790534, 'ceo anthony goldbloom'),\n",
       " (0.046501713202057565, 'acquiring kaggle'),\n",
       " (0.05500284979172434, 'kaggle co-founder ceo'),\n",
       " (0.05743727907793731, 'san francisco'),\n",
       " (0.06726505100386607, 'google'),\n",
       " (0.06754045633911093, 'google is acquiring'),\n",
       " (0.07472471161713069, 'anthony goldbloom declined'),\n",
       " (0.07489379267114575, 'co-founder ceo anthony'),\n",
       " (0.09080847547468633, 'francisco this week'),\n",
       " (0.10396234776227407, 'ceo anthony'),\n",
       " (0.10396234776227407, 'anthony goldbloom'),\n",
       " (0.11556884354166654, 'hosting its cloud')]"
      ]
     },
     "execution_count": 1,
     "metadata": {},
     "output_type": "execute_result"
    }
   ],
   "source": [
    "from yake import KeywordExtractor as YakeKW\n",
    "sample = YakeKW()\n",
    "text = \"\"\"Sources tell us that Google is acquiring Kaggle, a platform that hosts data science and machine learning \n",
    "competitions. Details about the transaction remain somewhat vague , but given that Google is hosting\n",
    "its Cloud Next conference in San Francisco this week, the official announcement could come as early\n",
    "as tomorrow. Reached by phone, Kaggle co-founder CEO Anthony Goldbloom declined to deny that the\n",
    "acquisition is happening. Google itself declined 'to comment on rumors'.\n",
    "\"\"\"\n",
    "keywords = sample.extract_keywords(text)\n",
    "keywords"
   ]
  },
  {
   "cell_type": "markdown",
   "metadata": {},
   "source": [
    "Observe que a língua definida por defeito é \"en\". Se quiser processar texto em português, ou mesmo noutra língua, deve especificar o respetivo código universal."
   ]
  },
  {
   "cell_type": "code",
   "execution_count": 2,
   "metadata": {},
   "outputs": [
    {
     "data": {
      "text/plain": [
       "[(0.004124732028209623, 'marrocos e irão'),\n",
       " (0.004124732028209623, 'palácio do kremlin'),\n",
       " (0.0053042880604021085, 'campeonato do mundo'),\n",
       " (0.007591096416230544, 'seleção nacional proveniente'),\n",
       " (0.009105615357908997, 'seleção nacional'),\n",
       " (0.010996383362381974, 'irão serão'),\n",
       " (0.010996383362381974, 'fase do campeonato'),\n",
       " (0.010996383362381974, 'sexta-feira no palácio'),\n",
       " (0.01658795817991718, 'conforme ditou'),\n",
       " (0.02293609491078373, 'ditou o sorteio'),\n",
       " (0.02293609491078373, 'sorteio realizado'),\n",
       " (0.02293609491078373, 'realizado esta sexta-feira'),\n",
       " (0.04096847175859269, 'rússia'),\n",
       " (0.047927938147063906, 'fernando santos'),\n",
       " (0.053468805895155465, 'nacional proveniente'),\n",
       " (0.05655139099574565, 'marrocos'),\n",
       " (0.05655139099574565, 'kremlin'),\n",
       " (0.05655139099574565, 'moscovo'),\n",
       " (0.06678446317271076, 'espanha'),\n",
       " (0.06686836603160157, 'seleção')]"
      ]
     },
     "execution_count": 2,
     "metadata": {},
     "output_type": "execute_result"
    }
   ],
   "source": [
    "from yake import KeywordExtractor as YakeKW\n",
    "sample = YakeKW(lan=\"pt\")\n",
    "text = \"Espanha, Marrocos e Irão serão os adversários da Seleção Nacional na primeira fase do Campeonato do Mundo de 2018, conforme ditou o sorteio realizado esta sexta-feira no Palácio do Kremlin, em Moscovo (Rússia). O jogo de estreia dos comandados de Fernando Santos está marcado para 15 de junho, às 18 horas em Portugal continental, precisamente frente a Espanha, o adversário mais cotado que poderia sair à Seleção Nacional proveniente do pote 2.\"\n",
    "keywords = sample.extract_keywords(text)\n",
    "keywords"
   ]
  },
  {
   "cell_type": "markdown",
   "metadata": {},
   "source": [
    "## Run as Client"
   ]
  },
  {
   "cell_type": "code",
   "execution_count": null,
   "metadata": {},
   "outputs": [],
   "source": [
    "#Correr na consola do Anaconda\n",
    "yake --help\n",
    "yake -i TextFile.txt -l en -n 3\n",
    "\n",
    "#A opção verbose permite ter acesso ao score\n",
    "#yake -i TextFile.txt -l en -n 3 -v"
   ]
  },
  {
   "cell_type": "markdown",
   "metadata": {},
   "source": [
    "onde:\n",
    "- -i TextFile.txt: é o nome do ficheiro de texto\n",
    "- -l en: indica que deve assumir a língua En (English)\n",
    "- -n 3: pretende a devolução de palavras relevantes constituídas por até um máximo de 3 gramas"
   ]
  },
  {
   "cell_type": "code",
   "execution_count": null,
   "metadata": {},
   "outputs": [],
   "source": []
  }
 ],
 "metadata": {
  "kernelspec": {
   "display_name": "Python 3",
   "language": "python",
   "name": "python3"
  },
  "language_info": {
   "codemirror_mode": {
    "name": "ipython",
    "version": 3
   },
   "file_extension": ".py",
   "mimetype": "text/x-python",
   "name": "python",
   "nbconvert_exporter": "python",
   "pygments_lexer": "ipython3",
   "version": "3.6.5"
  },
  "toc": {
   "base_numbering": 1,
   "nav_menu": {},
   "number_sections": true,
   "sideBar": true,
   "skip_h1_title": true,
   "title_cell": "Table of Contents",
   "title_sidebar": "Contents",
   "toc_cell": true,
   "toc_position": {},
   "toc_section_display": true,
   "toc_window_display": true
  }
 },
 "nbformat": 4,
 "nbformat_minor": 2
}
