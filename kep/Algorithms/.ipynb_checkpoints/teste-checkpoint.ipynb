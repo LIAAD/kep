{
 "cells": [
  {
   "cell_type": "markdown",
   "metadata": {
    "slideshow": {
     "slide_type": "skip"
    }
   },
   "source": [
    "<div style=\"border: 1px solid black\">\n",
    "<b><center><font size=\"5\">Instituto Politécnico de Tomar</font></center></b>\n",
    "<br>\n",
    "<center><font size=\"4\">Unidade Departamental de Tecnologias de Informação e Comunicação</font></center>\n",
    "</div>"
   ]
  },
  {
   "cell_type": "markdown",
   "metadata": {
    "slideshow": {
     "slide_type": "skip"
    }
   },
   "source": [
    "<b><center><font size=\"4\">Keyword Extractor Algorithms</font></center></b>\n",
    "<center><font size=\"3\"></font></center>\n",
    "<hr>"
   ]
  },
  {
   "cell_type": "markdown",
   "metadata": {
    "slideshow": {
     "slide_type": "skip"
    }
   },
   "source": [
    "Developed by: [Ricardo Campos](http://www.ccc.ipt.pt/~ricardo)\n",
    "\n",
    "[Home](http://www.ccc.ipt.pt/~ricardo/Text2Analytics/)\n",
    "\n",
    "<p><a href=\"1YAKE.ipynb\" title=\"Download Notebook\" download><img src=\"../../images/download.jpg\" align = \"left\" width=\"50\" height=\"50\" alt=\"Download Notebook\"></a></p>\n",
    "<p>&nbsp;</p>\n",
    "<p>&nbsp;</p>\n",
    "\n",
    "<hr>"
   ]
  },
  {
   "cell_type": "code",
   "execution_count": 1,
   "metadata": {},
   "outputs": [
    {
     "name": "stdout",
     "output_type": "stream",
     "text": [
      "16\n",
      "hello, universe!\n",
      "HELLO, UNIVERSE!\n"
     ]
    }
   ],
   "source": [
    "# example2.py\n",
    "\n",
    "import string_func.stringLength\n",
    "import string_func.stringToLower\n",
    "import string_func.stringToUpper\n",
    "\n",
    "some_string = \"Hello, Universe!\"\n",
    "\n",
    "print(string_func.stringLength.stringLength(some_string))\n",
    "print(string_func.stringToLower.stringToLower(some_string))\n",
    "print(string_func.stringToUpper.stringToUpper(some_string))"
   ]
  },
  {
   "cell_type": "markdown",
   "metadata": {
    "toc": true
   },
   "source": [
    "<h1>Table of Contents<span class=\"tocSkip\"></span></h1>\n",
    "<div class=\"toc\"><ul class=\"toc-item\"><li><span><a href=\"#RAKE\" data-toc-modified-id=\"RAKE-1\"><span class=\"toc-item-num\">1&nbsp;&nbsp;</span>RAKE</a></span><ul class=\"toc-item\"><li><span><a href=\"#Extract-KWs-from-Single-Document\" data-toc-modified-id=\"Extract-KWs-from-Single-Document-1.1\"><span class=\"toc-item-num\">1.1&nbsp;&nbsp;</span>Extract KWs from Single Document</a></span></li><li><span><a href=\"#Extract-KWs-from-Multiple-Documents-(from-Prompt)\" data-toc-modified-id=\"Extract-KWs-from-Multiple-Documents-(from-Prompt)-1.2\"><span class=\"toc-item-num\">1.2&nbsp;&nbsp;</span>Extract KWs from Multiple Documents (from Prompt)</a></span></li><li><span><a href=\"#Extract-KWs-from-Multiple-Documents-(from-Jupyter)\" data-toc-modified-id=\"Extract-KWs-from-Multiple-Documents-(from-Jupyter)-1.3\"><span class=\"toc-item-num\">1.3&nbsp;&nbsp;</span>Extract KWs from Multiple Documents (from Jupyter)</a></span></li></ul></li><li><span><a href=\"#Convert-to-sigtrec_eval-format\" data-toc-modified-id=\"Convert-to-sigtrec_eval-format-2\"><span class=\"toc-item-num\">2&nbsp;&nbsp;</span>Convert to sigtrec_eval format</a></span></li><li><span><a href=\"#HELP\" data-toc-modified-id=\"HELP-3\"><span class=\"toc-item-num\">3&nbsp;&nbsp;</span>HELP</a></span></li><li><span><a href=\"#Run-in-Code\" data-toc-modified-id=\"Run-in-Code-4\"><span class=\"toc-item-num\">4&nbsp;&nbsp;</span>Run in Code</a></span></li><li><span><a href=\"#Run-as-Client\" data-toc-modified-id=\"Run-as-Client-5\"><span class=\"toc-item-num\">5&nbsp;&nbsp;</span>Run as Client</a></span></li></ul></div>"
   ]
  },
  {
   "cell_type": "markdown",
   "metadata": {},
   "source": [
    "## RAKE"
   ]
  },
  {
   "cell_type": "markdown",
   "metadata": {},
   "source": [
    "O Rake é uma biblioteca (rake.py) que se encontra na pasta do notebook. O ficheiro foi adaptado para que aceitasse a extração de keywords a partir de 3 formas distintas:\n",
    "- para um único doc (rake.py)\n",
    "- em batch (múltiplos docs possívelmente vindos de múltiplos datasets - através da prompt - script runRake.py vai chamar rake.py)\n",
    "- em batch (múltiplos docs possívelmente vindos de múltiplos datasets - através do jupyter - script runRake.py vai chamar rake.py)"
   ]
  },
  {
   "cell_type": "markdown",
   "metadata": {},
   "source": [
    "Falando de processamento em batch, a forma mais simples é através do jupyter. No entanto ele também está preparado para ser executado via linha de comandos (prompt). runRake.py é assim um script que tanto pode ser chamado a partir da prompt como do jupyter."
   ]
  },
  {
   "cell_type": "markdown",
   "metadata": {},
   "source": [
    "### Extract KWs from Single Document"
   ]
  },
  {
   "cell_type": "code",
   "execution_count": 3,
   "metadata": {},
   "outputs": [
    {
     "ename": "ModuleNotFoundError",
     "evalue": "No module named 'rake'",
     "output_type": "error",
     "traceback": [
      "\u001b[1;31m---------------------------------------------------------------------------\u001b[0m",
      "\u001b[1;31mModuleNotFoundError\u001b[0m                       Traceback (most recent call last)",
      "\u001b[1;32m<ipython-input-3-22680321d05a>\u001b[0m in \u001b[0;36m<module>\u001b[1;34m()\u001b[0m\n\u001b[0;32m      1\u001b[0m \u001b[1;31m#from Rake.rake import Rake\u001b[0m\u001b[1;33m\u001b[0m\u001b[1;33m\u001b[0m\u001b[0m\n\u001b[1;32m----> 2\u001b[1;33m \u001b[1;32mfrom\u001b[0m \u001b[0mR\u001b[0m \u001b[1;32mimport\u001b[0m \u001b[0mrake\u001b[0m\u001b[1;33m\u001b[0m\u001b[0m\n\u001b[0m\u001b[0;32m      3\u001b[0m \u001b[1;33m\u001b[0m\u001b[0m\n\u001b[0;32m      4\u001b[0m \u001b[0mstopPath\u001b[0m \u001b[1;33m=\u001b[0m \u001b[1;34m'../StopwordsList/'\u001b[0m\u001b[1;33m\u001b[0m\u001b[0m\n\u001b[0;32m      5\u001b[0m \u001b[0mlan\u001b[0m \u001b[1;33m=\u001b[0m \u001b[1;34m\"en\"\u001b[0m\u001b[1;33m\u001b[0m\u001b[0m\n",
      "\u001b[1;32mH:\\Backup\\Research\\Programming\\JupyterNotebooks\\Python\\Text2Analytics\\KeywordExtractors\\Algorithms\\R\\__init__.py\u001b[0m in \u001b[0;36m<module>\u001b[1;34m()\u001b[0m\n\u001b[1;32m----> 1\u001b[1;33m \u001b[1;32mfrom\u001b[0m \u001b[0mrake\u001b[0m \u001b[1;32mimport\u001b[0m \u001b[0mRake\u001b[0m\u001b[1;33m\u001b[0m\u001b[0m\n\u001b[0m",
      "\u001b[1;31mModuleNotFoundError\u001b[0m: No module named 'rake'"
     ]
    }
   ],
   "source": [
    "#from Rake.rake import Rake\n",
    "from R import rake\n",
    "\n",
    "stopPath = '../StopwordsList/'\n",
    "lan = \"en\"\n",
    "nGram = 2\n",
    "doc = '../Datasets/500N-KPCrowd-v1.1/text/art_and_culture-20893614.txt'\n",
    "\n",
    "rake_object = Rake(stopPath, lan, max_words_length=nGram)\n",
    "\n",
    "sample_file = open(doc, 'r', encoding=\"utf-8\")\n",
    "text = sample_file.read()\n",
    "\n",
    "keywords = rake_object.run(text)\n",
    "\n",
    "print(\"Keywords:\", keywords)"
   ]
  },
  {
   "cell_type": "markdown",
   "metadata": {},
   "source": [
    "### Extract KWs from Multiple Documents (from Prompt)"
   ]
  },
  {
   "cell_type": "markdown",
   "metadata": {},
   "source": [
    "O título desta secção indica que a execução é a partir da prompt, mas na verdade a execução pode ser feita diretamente aqui no jupyter através do comando mágico %run"
   ]
  },
  {
   "cell_type": "markdown",
   "metadata": {},
   "source": [
    "runRake.py é um script que recebe um conjunto de parâmetros e vai chamar o rake.py."
   ]
  },
  {
   "cell_type": "code",
   "execution_count": 3,
   "metadata": {},
   "outputs": [],
   "source": [
    "#Define o folder onde a lista de stopwors se encontra (2 folders acima do folder onde este notebook se encontra)\n",
    "stopPath = '../../StopwordsList/'\n",
    "\n",
    "#Define o folder dos datasets a partir dos quais o RAKE vai extrair Keywords (os datasets encontram-se 2 folders acima do folder onde este notebook se encontra)\n",
    "twitter = '../../Datasets/twitter/'\n",
    "KPCrowd = '../../Datasets/500N-KPCrowd-v1.1/'"
   ]
  },
  {
   "cell_type": "code",
   "execution_count": null,
   "metadata": {},
   "outputs": [],
   "source": [
    "#runRake.py é um script que se encontra no mesmo folder deste notebook\n",
    "#recebe como parâmetros: -stopwordsPath; -datasetsPath; -lang; -nGram\n",
    "\n",
    "#Ao invés de executar na prompt da Anaconda (onde ao invés de %run colocaríamos python e ao invés das variáveis colocaríamos os valores) executamos aqui no jupyter\n",
    "#Para executar aqui (ao invés da prompt) recorremos ao %run\n",
    "#o uso do sinal $ permite fazer referência a uma variável\n",
    "\n",
    "#O código abaixo está a extrair kws para os datasets KPCrowd e Twitter\n",
    "#Se quisessemos extrair para mais datasets, tanto o path como a respetiva língua teriam que ser adicionados\n",
    "%run runRake.py -stopwordsPath $stopPath -datasetsPath $KPCrowd $twitter -lang \"en\" \"en\" -nGram 2"
   ]
  },
  {
   "cell_type": "markdown",
   "metadata": {},
   "source": [
    "### Extract KWs from Multiple Documents (from Jupyter)"
   ]
  },
  {
   "cell_type": "markdown",
   "metadata": {},
   "source": [
    "Esta é a forma mais entendível de executar o RAKE. runRake.py é um script (importado para o notebook através de from runRake) com um método ExtractKeywords que recebe um conjunto de parâmetros e vai chamar o rake.py."
   ]
  },
  {
   "cell_type": "code",
   "execution_count": 5,
   "metadata": {},
   "outputs": [],
   "source": [
    "#Define o folder onde a lista de stopwors se encontra (2 folders acima do folder onde este notebook se encontra)\n",
    "stopPath = '../../StopwordsList/'\n",
    "\n",
    "#Define o folder dos datasets a partir dos quais o RAKE vai extrair Keywords (os datasets encontram-se 2 folders acima do folder onde este notebook se encontra)\n",
    "twitter = '../../Datasets/twitter/'\n",
    "KPCrowd = '../../Datasets/500N-KPCrowd-v1.1/'\n",
    "ListOfPaths = [twitter, KPCrowd]\n",
    "\n",
    "#Define as línguas relativas a cada dataset\n",
    "ListOfLanguages = [\"en\",\"en\"]\n",
    "\n",
    "nGrams = 2"
   ]
  },
  {
   "cell_type": "code",
   "execution_count": null,
   "metadata": {},
   "outputs": [],
   "source": [
    "from runRake import ExtractKeywords\n",
    "ExtractKeywords(stopPath, ListOfPaths, ListOfLanguages, nGrams)"
   ]
  },
  {
   "cell_type": "markdown",
   "metadata": {
    "slideshow": {
     "slide_type": "slide"
    }
   },
   "source": [
    "## Convert to sigtrec_eval format"
   ]
  },
  {
   "cell_type": "markdown",
   "metadata": {},
   "source": [
    "Converter os resultados para um formato a ser utilizado pelo sigtrec_eval"
   ]
  },
  {
   "cell_type": "markdown",
   "metadata": {},
   "source": [
    "Após gerar os resultados, é necessário convertê-los para o mesmo tipo de ficheiros, no caso é executar um script. A baixo está o exemplo execução para os resultados do YAKE mas o processo é igual para todos:"
   ]
  },
  {
   "cell_type": "code",
   "execution_count": null,
   "metadata": {},
   "outputs": [],
   "source": [
    "•\tpython3 convert2trec.py -d ../../Datasets/TwitterBaseV2/ -r ../output/Yake/*/"
   ]
  },
  {
   "cell_type": "code",
   "execution_count": null,
   "metadata": {},
   "outputs": [],
   "source": [
    "!pip install git+http://github.com/LIAAD/yake\n",
    "\n",
    "#no caso de já ter instalado o package previamente e quiser fazer um update\n",
    "!pip install git+http://github.com/LIAAD/yake --upgrade"
   ]
  },
  {
   "cell_type": "markdown",
   "metadata": {},
   "source": [
    "## HELP"
   ]
  },
  {
   "cell_type": "markdown",
   "metadata": {},
   "source": [
    "Para obter ajuda sobre o módulo execute uma das seguintes linhas de código:"
   ]
  },
  {
   "cell_type": "code",
   "execution_count": null,
   "metadata": {},
   "outputs": [],
   "source": [
    "help(YakeKW)\n",
    "YakeKW?"
   ]
  },
  {
   "cell_type": "markdown",
   "metadata": {},
   "source": [
    "## Run in Code"
   ]
  },
  {
   "cell_type": "code",
   "execution_count": null,
   "metadata": {},
   "outputs": [],
   "source": [
    "from yake import KeywordExtractor as YakeKW\n",
    "sample = YakeKW()\n",
    "text = \"\"\"Sources tell us that Google is acquiring Kaggle, a platform that hosts data science and machine learning \n",
    "competitions. Details about the transaction remain somewhat vague , but given that Google is hosting\n",
    "its Cloud Next conference in San Francisco this week, the official announcement could come as early\n",
    "as tomorrow. Reached by phone, Kaggle co-founder CEO Anthony Goldbloom declined to deny that the\n",
    "acquisition is happening. Google itself declined 'to comment on rumors'.\n",
    "\"\"\"\n",
    "keywords = sample.extract_keywords(text)\n",
    "keywords"
   ]
  },
  {
   "cell_type": "markdown",
   "metadata": {},
   "source": [
    "Observe que a língua definida por defeito é \"en\". Se quiser processar texto em português, ou mesmo noutra língua, deve especificar o respetivo código universal."
   ]
  },
  {
   "cell_type": "code",
   "execution_count": null,
   "metadata": {},
   "outputs": [],
   "source": [
    "from yake import KeywordExtractor as YakeKW\n",
    "sample = YakeKW(lan=\"pt\")\n",
    "text = \"Espanha, Marrocos e Irão serão os adversários da Seleção Nacional na primeira fase do Campeonato do Mundo de 2018, conforme ditou o sorteio realizado esta sexta-feira no Palácio do Kremlin, em Moscovo (Rússia). O jogo de estreia dos comandados de Fernando Santos está marcado para 15 de junho, às 18 horas em Portugal continental, precisamente frente a Espanha, o adversário mais cotado que poderia sair à Seleção Nacional proveniente do pote 2.\"\n",
    "keywords = sample.extract_keywords(text)\n",
    "keywords"
   ]
  },
  {
   "cell_type": "markdown",
   "metadata": {},
   "source": [
    "## Run as Client"
   ]
  },
  {
   "cell_type": "code",
   "execution_count": null,
   "metadata": {},
   "outputs": [],
   "source": [
    "#Correr na consola do Anaconda\n",
    "yake --help\n",
    "yake -i TextFile.txt -l en -n 3\n",
    "\n",
    "#A opção verbose permite ter acesso ao score\n",
    "#yake -i TextFile.txt -l en -n 3 -v"
   ]
  },
  {
   "cell_type": "markdown",
   "metadata": {},
   "source": [
    "onde:\n",
    "- -i TextFile.txt: é o nome do ficheiro de texto\n",
    "- -l en: indica que deve assumir a língua En (English)\n",
    "- -n 3: pretende a devolução de palavras relevantes constituídas por até um máximo de 3 gramas"
   ]
  },
  {
   "cell_type": "code",
   "execution_count": null,
   "metadata": {},
   "outputs": [],
   "source": []
  }
 ],
 "metadata": {
  "kernelspec": {
   "display_name": "Python 3",
   "language": "python",
   "name": "python3"
  },
  "language_info": {
   "codemirror_mode": {
    "name": "ipython",
    "version": 3
   },
   "file_extension": ".py",
   "mimetype": "text/x-python",
   "name": "python",
   "nbconvert_exporter": "python",
   "pygments_lexer": "ipython3",
   "version": "3.6.5"
  },
  "toc": {
   "base_numbering": 1,
   "nav_menu": {},
   "number_sections": true,
   "sideBar": true,
   "skip_h1_title": true,
   "title_cell": "Table of Contents",
   "title_sidebar": "Contents",
   "toc_cell": true,
   "toc_position": {},
   "toc_section_display": true,
   "toc_window_display": true
  }
 },
 "nbformat": 4,
 "nbformat_minor": 2
}
