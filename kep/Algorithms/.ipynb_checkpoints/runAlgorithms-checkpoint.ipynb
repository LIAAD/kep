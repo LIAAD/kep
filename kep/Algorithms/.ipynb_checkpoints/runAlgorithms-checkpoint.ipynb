{
 "cells": [
  {
   "cell_type": "markdown",
   "metadata": {
    "slideshow": {
     "slide_type": "skip"
    }
   },
   "source": [
    "<div style=\"border: 1px solid black\">\n",
    "<b><center><font size=\"5\">Instituto Politécnico de Tomar</font></center></b>\n",
    "<br>\n",
    "<center><font size=\"4\">Unidade Departamental de Tecnologias de Informação e Comunicação</font></center>\n",
    "</div>"
   ]
  },
  {
   "cell_type": "markdown",
   "metadata": {
    "slideshow": {
     "slide_type": "skip"
    }
   },
   "source": [
    "<b><center><font size=\"4\">Keyword Extractor Algorithms</font></center></b>\n",
    "<center><font size=\"3\"></font></center>\n",
    "<hr>"
   ]
  },
  {
   "cell_type": "markdown",
   "metadata": {
    "slideshow": {
     "slide_type": "skip"
    }
   },
   "source": [
    "Developed by: [Ricardo Campos](http://www.ccc.ipt.pt/~ricardo)\n",
    "\n",
    "[Home](http://www.ccc.ipt.pt/~ricardo/Text2Analytics/)\n",
    "\n",
    "<p><a href=\"1YAKE.ipynb\" title=\"Download Notebook\" download><img src=\"../../images/download.jpg\" align = \"left\" width=\"50\" height=\"50\" alt=\"Download Notebook\"></a></p>\n",
    "<p>&nbsp;</p>\n",
    "<p>&nbsp;</p>\n",
    "\n",
    "<hr>"
   ]
  },
  {
   "cell_type": "markdown",
   "metadata": {
    "toc": true
   },
   "source": [
    "<h1>Table of Contents<span class=\"tocSkip\"></span></h1>\n",
    "<div class=\"toc\"><ul class=\"toc-item\"><li><span><a href=\"#Datasets\" data-toc-modified-id=\"Datasets-1\"><span class=\"toc-item-num\">1&nbsp;&nbsp;</span>Datasets</a></span></li><li><span><a href=\"#Keyword-Extractor-Algorithms\" data-toc-modified-id=\"Keyword-Extractor-Algorithms-2\"><span class=\"toc-item-num\">2&nbsp;&nbsp;</span>Keyword Extractor Algorithms</a></span><ul class=\"toc-item\"><li><span><a href=\"#RAKE\" data-toc-modified-id=\"RAKE-2.1\"><span class=\"toc-item-num\">2.1&nbsp;&nbsp;</span>RAKE</a></span><ul class=\"toc-item\"><li><span><a href=\"#Extract-KWs-from-Single-Document\" data-toc-modified-id=\"Extract-KWs-from-Single-Document-2.1.1\"><span class=\"toc-item-num\">2.1.1&nbsp;&nbsp;</span>Extract KWs from Single Document</a></span></li><li><span><a href=\"#Extract-KWs-from-Multiple-Documents-(from-Prompt)\" data-toc-modified-id=\"Extract-KWs-from-Multiple-Documents-(from-Prompt)-2.1.2\"><span class=\"toc-item-num\">2.1.2&nbsp;&nbsp;</span>Extract KWs from Multiple Documents (from Prompt)</a></span></li><li><span><a href=\"#Extract-KWs-from-Multiple-Documents-(from-Jupyter)\" data-toc-modified-id=\"Extract-KWs-from-Multiple-Documents-(from-Jupyter)-2.1.3\"><span class=\"toc-item-num\">2.1.3&nbsp;&nbsp;</span>Extract KWs from Multiple Documents (from Jupyter)</a></span></li></ul></li></ul></li><li><span><a href=\"#Avaliation\" data-toc-modified-id=\"Avaliation-3\"><span class=\"toc-item-num\">3&nbsp;&nbsp;</span>Avaliation</a></span><ul class=\"toc-item\"><li><span><a href=\"#Convert-to-sigtrec_eval-format\" data-toc-modified-id=\"Convert-to-sigtrec_eval-format-3.1\"><span class=\"toc-item-num\">3.1&nbsp;&nbsp;</span>Convert to sigtrec_eval format</a></span></li><li><span><a href=\"#Run-sigtrec_eval\" data-toc-modified-id=\"Run-sigtrec_eval-3.2\"><span class=\"toc-item-num\">3.2&nbsp;&nbsp;</span>Run sigtrec_eval</a></span></li></ul></li></ul></div>"
   ]
  },
  {
   "cell_type": "markdown",
   "metadata": {},
   "source": [
    "## Datasets"
   ]
  },
  {
   "cell_type": "markdown",
   "metadata": {},
   "source": [
    "Neste notebook usamos alguns dos datasets aqui [listados](https://github.com/LIAAD/KeywordExtractor-Datasets). Em particular fazemos uso do: \n",
    "- 500N-KPCrowd-v1.1 (500 docs)\n",
    "- kwtweet (7736)"
   ]
  },
  {
   "cell_type": "markdown",
   "metadata": {},
   "source": [
    "Os datasets aqui usados devem seguir a seguinte estrutura:\n",
    "- key (onde para cada doc são guardadas as keys - ground-truth)\n",
    "- text (o texto dos documentos)\n",
    "- lan.txt (língua do doc. usada para o carregamento das stopwords)\n",
    "- language.txt (usado no convert2trec.py no caso de se querer fazer stemming no ground-truth e nos resultados. valores possíveis: english, polish, portuguese)"
   ]
  },
  {
   "cell_type": "markdown",
   "metadata": {},
   "source": [
    "## Keyword Extractor Algorithms"
   ]
  },
  {
   "cell_type": "markdown",
   "metadata": {},
   "source": [
    "### RAKE"
   ]
  },
  {
   "cell_type": "markdown",
   "metadata": {},
   "source": [
    "O Rake é uma biblioteca (rake.py) que se encontra na pasta do notebook. O ficheiro foi adaptado para que aceitasse a extração de keywords a partir de 3 formas distintas:\n",
    "- para um único doc (rake.py)\n",
    "- em batch (múltiplos docs possívelmente vindos de múltiplos datasets - através da prompt - script runRake.py vai chamar rake.py)\n",
    "- em batch (múltiplos docs possívelmente vindos de múltiplos datasets - através do jupyter - script runRake.py vai chamar rake.py)"
   ]
  },
  {
   "cell_type": "markdown",
   "metadata": {},
   "source": [
    "Falando de processamento em batch, a forma mais simples é através do jupyter. No entanto ele também está preparado para ser executado via linha de comandos (prompt). runRake.py é assim um script que tanto pode ser chamado a partir da prompt como do jupyter."
   ]
  },
  {
   "cell_type": "markdown",
   "metadata": {},
   "source": [
    "#### Extract KWs from Single Document"
   ]
  },
  {
   "cell_type": "code",
   "execution_count": null,
   "metadata": {},
   "outputs": [],
   "source": [
    "#from RAKE, onde RAKE e o nome do folder\n",
    "#Dentro do folder RAKE existe um ficheiro __init__py com o seguinte conteudo:\n",
    "#from RAKE.rake import Rake, onde rake e o file rake.py e import Rake a classe Rake que pode ser encontrada dentro do ficheiro rake.py\n",
    "from RAKE import Rake\n",
    "\n",
    "stopPath = '../StopwordsList/'\n",
    "lan = \"en\"\n",
    "nGram = 2\n",
    "doc = '../Datasets/500N-KPCrowd-v1.1/text/art_and_culture-20893614.txt'\n",
    "\n",
    "rake_object = Rake(stopPath, lan, max_words_length=nGram)\n",
    "\n",
    "sample_file = open(doc, 'r', encoding=\"utf-8\")\n",
    "text = sample_file.read()\n",
    "\n",
    "keywords = rake_object.run(text)\n",
    "\n",
    "print(\"Keywords:\", keywords)"
   ]
  },
  {
   "cell_type": "markdown",
   "metadata": {},
   "source": [
    "#### Extract KWs from Multiple Documents (from Prompt)"
   ]
  },
  {
   "cell_type": "markdown",
   "metadata": {},
   "source": [
    "O título desta secção indica que a execução é a partir da prompt, mas na verdade a execução pode ser feita diretamente aqui no jupyter através do comando mágico %run"
   ]
  },
  {
   "cell_type": "markdown",
   "metadata": {},
   "source": [
    "runRake.py é um script que recebe um conjunto de parâmetros e vai chamar o rake.py."
   ]
  },
  {
   "cell_type": "code",
   "execution_count": null,
   "metadata": {},
   "outputs": [],
   "source": [
    "#Define o folder onde a lista de stopwors se encontra (2 folders acima do folder onde este notebook se encontra)\n",
    "stopPath = '../StopwordsList/'\n",
    "\n",
    "#Define o folder dos datasets a partir dos quais o RAKE vai extrair Keywords (os datasets encontram-se 2 folders acima do folder onde este notebook se encontra)\n",
    "twitter = '../Datasets/twitter/'\n",
    "KPCrowd = '../Datasets/500N-KPCrowd-v1.1/'\n",
    "\n",
    "#Define o folder onde as keywords vao ficar guardadas\n",
    "kwPath = 'RAKE/keywords'"
   ]
  },
  {
   "cell_type": "code",
   "execution_count": null,
   "metadata": {},
   "outputs": [],
   "source": [
    "#runRake.py é um script que se encontra no mesmo folder deste notebook\n",
    "#recebe como parâmetros: -stopwordsPath; -datasetsPath; -lang; -nGram\n",
    "\n",
    "#Ao invés de executar na prompt da Anaconda (onde ao invés de %run colocaríamos python e ao invés das variáveis colocaríamos os valores) executamos aqui no jupyter\n",
    "#Para executar aqui (ao invés da prompt) recorremos ao %run\n",
    "#o uso do sinal $ permite fazer referência a uma variável\n",
    "\n",
    "#O código abaixo está a extrair kws para os datasets KPCrowd e Twitter\n",
    "#Se quisessemos extrair para mais datasets, tanto o path como a respetiva língua teriam que ser adicionados\n",
    "%run RAKE/runRake.py -stopwordsPath $stopPath -datasetsPath $KPCrowd $twitter -nGram 2 -keywordsPath $kwPath"
   ]
  },
  {
   "cell_type": "markdown",
   "metadata": {},
   "source": [
    "#### Extract KWs from Multiple Documents (from Jupyter)"
   ]
  },
  {
   "cell_type": "markdown",
   "metadata": {},
   "source": [
    "Esta é a forma mais entendível de executar o RAKE. runRake.py é um script (importado para o notebook através de from runRake) com um método ExtractKeywords que recebe um conjunto de parâmetros e vai chamar o rake.py."
   ]
  },
  {
   "cell_type": "code",
   "execution_count": null,
   "metadata": {},
   "outputs": [],
   "source": [
    "#Define o folder onde a lista de stopwors se encontra (2 folders acima do folder onde este notebook se encontra)\n",
    "stopPath = '../StopwordsList/'\n",
    "\n",
    "#Define o folder dos datasets a partir dos quais o RAKE vai extrair Keywords (os datasets encontram-se 2 folders acima do folder onde este notebook se encontra)\n",
    "twitter = '../Datasets/twitter/'\n",
    "KPCrowd = '../Datasets/500N-KPCrowd-v1.1/'\n",
    "ListOfPaths = [twitter, KPCrowd]\n",
    "\n",
    "#Número máximo de gramas das keywords\n",
    "nGrams = 2\n",
    "\n",
    "#Define o folder onde as keywords vao ficar guardadas\n",
    "kwPath = 'RAKE/keywords'"
   ]
  },
  {
   "cell_type": "code",
   "execution_count": null,
   "metadata": {},
   "outputs": [],
   "source": [
    "from RAKE import ExtractKeywords\n",
    "ExtractKeywords(stopPath, ListOfPaths, nGrams, kwPath)"
   ]
  },
  {
   "cell_type": "markdown",
   "metadata": {
    "slideshow": {
     "slide_type": "slide"
    }
   },
   "source": [
    "## Avaliation"
   ]
  },
  {
   "cell_type": "markdown",
   "metadata": {},
   "source": [
    "### Convert to sigtrec_eval format"
   ]
  },
  {
   "cell_type": "markdown",
   "metadata": {},
   "source": [
    "Neste passo espera-se gerar não só o ficheiro de ground-truth (em formato sigtrec_eval), bem como converter os resultados do algoritmo também num formato sigtrec_eval."
   ]
  },
  {
   "cell_type": "markdown",
   "metadata": {},
   "source": [
    "Corre o script convert2trec.py que pode ser encontrado na pasta conversor. Nessa pasta cria um folder output e para cada dataset (e.g., `500N-KPCrowd-v1.1`) gera dois ficheiros .qrel (ground-truth) e .out (resultados do algoritmo) em formato sigtrec_eval."
   ]
  },
  {
   "cell_type": "markdown",
   "metadata": {},
   "source": [
    "O ficheiro .qrel (e.g., `500N-KPCrowd-v1.1.qrel`) é um ficheiro de ground truth que lista as keywords relevantes (e.g., `k0` - id da keyword) de todos os documentos. Possui a seguinte estrutura: \n",
    "- `art_and_culture-20880868\t0\tk0\t1`\n",
    "-  ....\n",
    "- `art_and_culture-20880868\t0\tk12\t1`\n",
    "- `business-20838979\t    0\tk0\t1`\n",
    "- ..."
   ]
  },
  {
   "cell_type": "markdown",
   "metadata": {},
   "source": [
    "onde:\n",
    "- a primeira coluna (e.g., art_and_culture-20880868) é o docId\n",
    "- 0 é uma constante\n",
    "- k0 é a primeira keyword desse doc\n",
    "- 1 significa que é (obviamente) relevante"
   ]
  },
  {
   "cell_type": "markdown",
   "metadata": {},
   "source": [
    "O ficheiro .out por sua vez (e.g. `500N-KPCrowd-v1.1_RAKE.out`) converte para o formato sigtrec_eval o resultado obtido por um dado algoritmo (e.g., `RAKE`) no conjunto de documentos (e.g., `art_and_culture-20881913` e `art_and_culture-20886831`) de um dado dataset (e.g., `500N-KPCrowd-v1.1`). Segue a seguinte estrutura:"
   ]
  },
  {
   "cell_type": "markdown",
   "metadata": {},
   "source": [
    "- `art_and_culture-20881913 Q0 k45 1 1 RAKE`\n",
    "- `art_and_culture-20886831 Q0 k23 1 2 RAKE`\n",
    "- `art_and_culture-20886831 Q0 k24 2 1 RAKE`"
   ]
  },
  {
   "cell_type": "markdown",
   "metadata": {},
   "source": [
    "onde:\n",
    "- a primeira coluna (e.g. `art_and_culture-20881913` e `art_and_culture-20886831`) é o docID\n",
    "- Q0 é uma constante\n",
    "- a terceira coluna (e.g., `k45`) é o id da keyword\n",
    "- a 4.ª coluna é o rank por ordem crescente\n",
    "- a 5.ª coluna é o rank por ordem decrescente\n",
    "- a 6.ª coluna (e.g., `RAKE`) é o nome do algoritmo"
   ]
  },
  {
   "cell_type": "markdown",
   "metadata": {},
   "source": [
    "No exemplo acima, temos uma única keyword (`k45`) dada como relevante para o doc `art_and_culture-20881913`, e temos duas keywords (`k23` e `k24`) dadas como reevantes para o doc `art_and_culture-20886831`."
   ]
  },
  {
   "cell_type": "markdown",
   "metadata": {},
   "source": [
    "Note-se que se quisessemos processar os resultados com stemming (tanto do lado do ground-truth como do lado dos baselines) bastaria acerscentar a opção `-f \"stem\"` no código abaixo. A aplicação de stemming em modo de avaliação vai aumentar a efetividade dos resultados e é uma técnica seguida por muitos investigadores aquando da avaliação."
   ]
  },
  {
   "cell_type": "code",
   "execution_count": 1,
   "metadata": {},
   "outputs": [
    {
     "name": "stderr",
     "output_type": "stream",
     "text": [
      "\n",
      "Datasets:   0%|                                                                                  | 0/2 [00:00<?, ?it/s]\n",
      "\n",
      "Building Ground Truth (twitter):   0%|                                                        | 0/7736 [00:00<?, ?it/s]\n",
      "\n",
      "Building Ground Truth (twitter):   1%|▍                                             | 72/7736 [00:00<00:11, 658.43it/s]\n",
      "\n",
      "Building Ground Truth (twitter):   2%|█                                            | 173/7736 [00:00<00:10, 720.50it/s]\n",
      "\n",
      "Building Ground Truth (twitter):   4%|█▊                                           | 306/7736 [00:00<00:09, 820.88it/s]\n",
      "\n",
      "Building Ground Truth (twitter):   5%|██▎                                          | 404/7736 [00:00<00:08, 842.11it/s]\n",
      "\n",
      "Building Ground Truth (twitter):   7%|██▉                                          | 504/7736 [00:00<00:08, 862.60it/s]\n",
      "\n",
      "Building Ground Truth (twitter):   8%|███▌                                         | 616/7736 [00:00<00:07, 905.46it/s]\n",
      "\n",
      "Building Ground Truth (twitter):   9%|████▏                                        | 717/7736 [00:00<00:07, 910.85it/s]\n",
      "\n",
      "Building Ground Truth (twitter):  11%|████▉                                       | 869/7736 [00:00<00:06, 1015.91it/s]\n",
      "\n",
      "Building Ground Truth (twitter):  13%|█████▌                                      | 983/7736 [00:00<00:06, 1023.76it/s]\n",
      "\n",
      "Building Ground Truth (twitter):  14%|██████                                     | 1087/7736 [00:01<00:06, 1000.81it/s]\n",
      "\n",
      "Building Ground Truth (twitter):  15%|██████▊                                     | 1188/7736 [00:01<00:06, 976.34it/s]\n",
      "\n",
      "Building Ground Truth (twitter):  17%|███████▎                                    | 1287/7736 [00:01<00:06, 953.90it/s]\n",
      "\n",
      "Building Ground Truth (twitter):  18%|███████▊                                    | 1384/7736 [00:01<00:07, 892.58it/s]\n",
      "\n",
      "Building Ground Truth (twitter):  19%|████████▍                                   | 1475/7736 [00:01<00:07, 873.57it/s]\n",
      "\n",
      "Building Ground Truth (twitter):  20%|████████▉                                   | 1564/7736 [00:01<00:07, 854.78it/s]\n",
      "\n",
      "Building Ground Truth (twitter):  21%|█████████▍                                  | 1663/7736 [00:01<00:06, 869.34it/s]\n",
      "\n",
      "Building Ground Truth (twitter):  23%|██████████                                  | 1769/7736 [00:01<00:06, 897.12it/s]\n",
      "\n",
      "Building Ground Truth (twitter):  24%|██████████▋                                 | 1879/7736 [00:01<00:06, 927.21it/s]\n",
      "\n",
      "Building Ground Truth (twitter):  26%|███████████▎                                | 1988/7736 [00:02<00:06, 947.05it/s]\n",
      "\n",
      "Building Ground Truth (twitter):  27%|███████████▉                                | 2094/7736 [00:02<00:05, 953.63it/s]\n",
      "\n",
      "Building Ground Truth (twitter):  28%|████████████▍                               | 2190/7736 [00:02<00:07, 786.77it/s]\n",
      "\n",
      "Building Ground Truth (twitter):  29%|████████████▉                               | 2274/7736 [00:02<00:07, 718.48it/s]\n",
      "\n",
      "Building Ground Truth (twitter):  30%|█████████████▍                              | 2356/7736 [00:02<00:07, 727.60it/s]\n",
      "\n",
      "Building Ground Truth (twitter):  32%|██████████████                              | 2465/7736 [00:02<00:06, 791.77it/s]\n",
      "\n",
      "Building Ground Truth (twitter):  34%|██████████████▊                             | 2596/7736 [00:02<00:05, 881.44it/s]\n",
      "\n",
      "Building Ground Truth (twitter):  35%|███████████████▍                            | 2714/7736 [00:02<00:05, 932.69it/s]\n",
      "\n",
      "Building Ground Truth (twitter):  36%|███████████████▉                            | 2813/7736 [00:03<00:05, 924.32it/s]\n",
      "\n",
      "Building Ground Truth (twitter):  38%|████████████████▋                           | 2927/7736 [00:03<00:05, 956.86it/s]\n",
      "\n",
      "Building Ground Truth (twitter):  39%|████████████████▉                          | 3053/7736 [00:03<00:04, 1008.08it/s]\n",
      "\n",
      "Building Ground Truth (twitter):  41%|█████████████████▌                         | 3164/7736 [00:03<00:04, 1010.26it/s]\n",
      "\n",
      "Building Ground Truth (twitter):  42%|██████████████████▌                         | 3267/7736 [00:03<00:04, 988.75it/s]\n",
      "\n",
      "Building Ground Truth (twitter):  44%|██████████████████▊                        | 3382/7736 [00:03<00:04, 1006.82it/s]\n",
      "\n",
      "Building Ground Truth (twitter):  45%|███████████████████▍                       | 3503/7736 [00:03<00:04, 1034.79it/s]\n",
      "\n",
      "Building Ground Truth (twitter):  47%|████████████████████▏                      | 3621/7736 [00:03<00:03, 1047.71it/s]\n",
      "\n",
      "Building Ground Truth (twitter):  48%|████████████████████▋                      | 3731/7736 [00:03<00:03, 1034.81it/s]\n",
      "\n",
      "Building Ground Truth (twitter):  50%|█████████████████████▎                     | 3836/7736 [00:04<00:03, 1011.25it/s]\n",
      "\n",
      "Building Ground Truth (twitter):  51%|█████████████████████▉                     | 3954/7736 [00:04<00:03, 1030.61it/s]\n",
      "\n",
      "Building Ground Truth (twitter):  53%|██████████████████████▋                    | 4073/7736 [00:04<00:03, 1047.34it/s]\n",
      "\n",
      "Building Ground Truth (twitter):  54%|███████████████████████▏                   | 4179/7736 [00:04<00:03, 1022.67it/s]\n",
      "\n",
      "Building Ground Truth (twitter):  56%|███████████████████████▉                   | 4299/7736 [00:04<00:03, 1043.99it/s]\n",
      "\n",
      "Building Ground Truth (twitter):  57%|████████████████████████▌                  | 4418/7736 [00:04<00:03, 1056.89it/s]\n",
      "\n",
      "Building Ground Truth (twitter):  59%|█████████████████████████▏                 | 4537/7736 [00:04<00:03, 1066.10it/s]\n",
      "\n",
      "Building Ground Truth (twitter):  60%|██████████████████████████▍                 | 4644/7736 [00:04<00:03, 993.07it/s]\n",
      "\n",
      "Building Ground Truth (twitter):  61%|██████████████████████████▉                 | 4745/7736 [00:04<00:03, 929.28it/s]\n",
      "\n",
      "Building Ground Truth (twitter):  63%|███████████████████████████▌                | 4840/7736 [00:05<00:03, 835.27it/s]\n",
      "\n",
      "Building Ground Truth (twitter):  64%|████████████████████████████                | 4927/7736 [00:05<00:03, 755.94it/s]\n",
      "\n",
      "Building Ground Truth (twitter):  65%|████████████████████████████▍               | 5007/7736 [00:05<00:03, 717.02it/s]\n",
      "\n",
      "Building Ground Truth (twitter):  66%|█████████████████████████████               | 5099/7736 [00:05<00:03, 750.29it/s]\n",
      "\n",
      "Building Ground Truth (twitter):  67%|█████████████████████████████▌              | 5207/7736 [00:05<00:03, 808.59it/s]\n",
      "\n",
      "Building Ground Truth (twitter):  69%|██████████████████████████████▎             | 5340/7736 [00:05<00:02, 898.99it/s]\n",
      "\n",
      "Building Ground Truth (twitter):  71%|███████████████████████████████             | 5467/7736 [00:05<00:02, 964.36it/s]\n",
      "\n",
      "Building Ground Truth (twitter):  72%|███████████████████████████████▋            | 5578/7736 [00:05<00:02, 979.05it/s]\n",
      "\n",
      "Building Ground Truth (twitter):  73%|████████████████████████████████▎           | 5680/7736 [00:06<00:02, 923.74it/s]\n",
      "\n",
      "Building Ground Truth (twitter):  75%|████████████████████████████████▊           | 5776/7736 [00:06<00:02, 772.34it/s]\n",
      "\n",
      "Building Ground Truth (twitter):  76%|█████████████████████████████████▎          | 5860/7736 [00:06<00:02, 739.28it/s]\n",
      "\n",
      "Building Ground Truth (twitter):  77%|█████████████████████████████████▊          | 5953/7736 [00:06<00:02, 769.46it/s]\n",
      "\n",
      "Building Ground Truth (twitter):  78%|██████████████████████████████████▌         | 6068/7736 [00:06<00:01, 836.84it/s]\n",
      "\n",
      "Building Ground Truth (twitter):  80%|███████████████████████████████████▏        | 6185/7736 [00:06<00:01, 895.36it/s]\n",
      "\n",
      "Building Ground Truth (twitter):  81%|███████████████████████████████████▋        | 6279/7736 [00:06<00:01, 846.99it/s]\n",
      "\n",
      "Building Ground Truth (twitter):  82%|████████████████████████████████████▏       | 6368/7736 [00:06<00:01, 836.79it/s]\n",
      "\n",
      "Building Ground Truth (twitter):  84%|████████████████████████████████████▊       | 6477/7736 [00:06<00:01, 879.12it/s]\n",
      "\n",
      "Building Ground Truth (twitter):  85%|█████████████████████████████████████▎      | 6569/7736 [00:07<00:01, 867.43it/s]\n",
      "\n",
      "Building Ground Truth (twitter):  86%|█████████████████████████████████████▊      | 6658/7736 [00:07<00:01, 850.66it/s]\n",
      "\n",
      "Building Ground Truth (twitter):  87%|██████████████████████████████████████▎     | 6745/7736 [00:07<00:01, 797.55it/s]\n",
      "\n",
      "Building Ground Truth (twitter):  89%|███████████████████████████████████████     | 6871/7736 [00:07<00:00, 878.71it/s]\n",
      "\n"
     ]
    },
    {
     "name": "stderr",
     "output_type": "stream",
     "text": [
      "Building Ground Truth (twitter):  90%|███████████████████████████████████████▌    | 6963/7736 [00:07<00:00, 830.45it/s]\n",
      "\n",
      "Building Ground Truth (twitter):  91%|████████████████████████████████████████▏   | 7057/7736 [00:07<00:00, 839.01it/s]\n",
      "\n",
      "Building Ground Truth (twitter):  92%|████████████████████████████████████████▋   | 7148/7736 [00:07<00:00, 836.95it/s]\n",
      "\n",
      "Building Ground Truth (twitter):  94%|█████████████████████████████████████████▍  | 7284/7736 [00:07<00:00, 928.01it/s]\n",
      "\n",
      "Building Ground Truth (twitter):  95%|█████████████████████████████████████████▉  | 7381/7736 [00:08<00:00, 915.33it/s]\n",
      "\n",
      "Building Ground Truth (twitter):  97%|██████████████████████████████████████████▌ | 7480/7736 [00:08<00:00, 912.32it/s]\n",
      "\n",
      "Building Ground Truth (twitter):  98%|███████████████████████████████████████████ | 7574/7736 [00:08<00:00, 857.54it/s]\n",
      "\n",
      "Building Ground Truth (twitter):  99%|███████████████████████████████████████████▌| 7670/7736 [00:08<00:00, 863.55it/s]\n",
      "\n",
      "Building Ground Truth (twitter): 100%|████████████████████████████████████████████| 7736/7736 [00:08<00:00, 918.77it/s]\n",
      "\n",
      "\n",
      "twitter:   0%|                                                                                   | 0/1 [00:00<?, ?it/s]\n",
      "\n",
      "\n",
      "\n",
      "RAKE:   0%|                                                                                   | 0/7736 [00:00<?, ?it/s]\n",
      "\n",
      "\n",
      "\n",
      "RAKE:   2%|█▏                                                                     | 123/7736 [00:00<00:06, 1124.80it/s]\n",
      "\n",
      "\n",
      "\n",
      "RAKE:   4%|██▌                                                                    | 274/7736 [00:00<00:06, 1191.07it/s]\n",
      "\n",
      "\n",
      "\n",
      "RAKE:   5%|███▉                                                                   | 424/7736 [00:00<00:05, 1240.09it/s]\n",
      "\n",
      "\n",
      "\n",
      "RAKE:   8%|█████▍                                                                 | 592/7736 [00:00<00:05, 1316.23it/s]\n",
      "\n",
      "\n",
      "\n",
      "RAKE:   9%|██████▋                                                                | 727/7736 [00:00<00:05, 1290.55it/s]\n",
      "\n",
      "\n",
      "\n",
      "RAKE:  11%|████████                                                               | 881/7736 [00:00<00:05, 1323.83it/s]\n",
      "\n",
      "\n",
      "\n",
      "RAKE:  13%|█████████▍                                                            | 1042/7736 [00:00<00:04, 1365.14it/s]\n",
      "\n",
      "\n",
      "\n",
      "RAKE:  16%|███████████                                                           | 1220/7736 [00:00<00:04, 1434.58it/s]\n",
      "\n",
      "\n",
      "\n",
      "RAKE:  18%|████████████▌                                                         | 1393/7736 [00:00<00:04, 1475.87it/s]\n",
      "\n",
      "\n",
      "\n",
      "RAKE:  20%|██████████████▎                                                       | 1575/7736 [00:01<00:04, 1527.78it/s]\n",
      "\n",
      "\n",
      "\n",
      "RAKE:  22%|███████████████▋                                                      | 1738/7736 [00:01<00:03, 1516.44it/s]\n",
      "\n",
      "\n",
      "\n",
      "RAKE:  24%|█████████████████                                                     | 1889/7736 [00:01<00:03, 1473.06it/s]\n",
      "\n",
      "\n",
      "\n",
      "RAKE:  26%|██████████████████▍                                                   | 2036/7736 [00:01<00:04, 1312.10it/s]\n",
      "\n",
      "\n",
      "\n",
      "RAKE:  28%|███████████████████▋                                                  | 2171/7736 [00:01<00:04, 1232.74it/s]\n",
      "\n",
      "\n",
      "\n",
      "RAKE:  30%|████████████████████▊                                                 | 2298/7736 [00:01<00:04, 1210.46it/s]\n",
      "\n",
      "\n",
      "\n",
      "RAKE:  32%|██████████████████████                                                | 2443/7736 [00:01<00:04, 1242.95it/s]\n",
      "\n",
      "\n",
      "\n",
      "RAKE:  34%|███████████████████████▌                                              | 2604/7736 [00:01<00:03, 1303.90it/s]\n",
      "\n",
      "\n",
      "\n",
      "RAKE:  36%|████████████████████████▊                                             | 2749/7736 [00:02<00:03, 1310.46it/s]\n",
      "\n",
      "\n",
      "\n",
      "RAKE:  38%|██████████████████████████▍                                           | 2920/7736 [00:02<00:03, 1377.36it/s]\n",
      "\n",
      "\n",
      "\n",
      "RAKE:  40%|███████████████████████████▋                                          | 3060/7736 [00:02<00:03, 1235.39it/s]\n",
      "\n",
      "\n",
      "\n",
      "RAKE:  41%|████████████████████████████▉                                         | 3200/7736 [00:02<00:03, 1248.52it/s]\n",
      "\n",
      "\n",
      "\n",
      "RAKE:  43%|██████████████████████████████▎                                       | 3345/7736 [00:02<00:03, 1270.81it/s]\n",
      "\n",
      "\n",
      "\n",
      "RAKE:  46%|███████████████████████████████▉                                      | 3527/7736 [00:02<00:03, 1367.85it/s]\n",
      "\n",
      "\n",
      "\n",
      "RAKE:  48%|█████████████████████████████████▌                                    | 3713/7736 [00:02<00:02, 1453.23it/s]\n",
      "\n",
      "\n",
      "\n",
      "RAKE:  50%|███████████████████████████████████▎                                  | 3897/7736 [00:02<00:02, 1515.21it/s]\n",
      "\n",
      "\n",
      "\n",
      "RAKE:  53%|████████████████████████████████████▊                                 | 4064/7736 [00:02<00:02, 1518.80it/s]\n",
      "\n",
      "\n",
      "\n",
      "RAKE:  55%|██████████████████████████████████████▎                               | 4230/7736 [00:03<00:02, 1518.58it/s]\n",
      "\n",
      "\n",
      "\n",
      "RAKE:  57%|███████████████████████████████████████▉                              | 4414/7736 [00:03<00:02, 1564.35it/s]\n",
      "\n",
      "\n",
      "\n",
      "RAKE:  59%|█████████████████████████████████████████▌                            | 4593/7736 [00:03<00:01, 1585.45it/s]\n",
      "\n",
      "\n",
      "\n",
      "RAKE:  61%|███████████████████████████████████████████                           | 4753/7736 [00:03<00:02, 1479.48it/s]\n",
      "\n",
      "\n",
      "\n",
      "RAKE:  63%|████████████████████████████████████████████▎                         | 4904/7736 [00:03<00:02, 1329.11it/s]\n",
      "\n",
      "\n",
      "\n",
      "RAKE:  65%|█████████████████████████████████████████████▌                        | 5042/7736 [00:03<00:02, 1252.58it/s]\n",
      "\n",
      "\n",
      "\n",
      "RAKE:  67%|██████████████████████████████████████████████▊                       | 5174/7736 [00:03<00:02, 1238.42it/s]\n",
      "\n",
      "\n",
      "\n",
      "RAKE:  69%|████████████████████████████████████████████████▏                     | 5327/7736 [00:03<00:01, 1282.78it/s]\n",
      "\n",
      "\n",
      "\n",
      "RAKE:  71%|█████████████████████████████████████████████████▍                    | 5458/7736 [00:03<00:01, 1256.14it/s]\n",
      "\n",
      "\n",
      "\n",
      "RAKE:  72%|██████████████████████████████████████████████████▌                   | 5586/7736 [00:04<00:01, 1176.23it/s]\n",
      "\n",
      "\n",
      "\n",
      "RAKE:  74%|███████████████████████████████████████████████████▋                  | 5718/7736 [00:04<00:01, 1185.35it/s]\n",
      "\n",
      "\n",
      "\n",
      "RAKE:  76%|█████████████████████████████████████████████████████▎                | 5888/7736 [00:04<00:01, 1276.30it/s]\n",
      "\n",
      "\n",
      "\n",
      "RAKE:  78%|██████████████████████████████████████████████████████▍               | 6019/7736 [00:04<00:01, 1251.75it/s]\n",
      "\n",
      "\n",
      "\n",
      "RAKE:  79%|███████████████████████████████████████████████████████▌              | 6147/7736 [00:04<00:01, 1173.55it/s]\n",
      "\n",
      "\n",
      "\n",
      "RAKE:  81%|█████████████████████████████████████████████████████████             | 6300/7736 [00:04<00:01, 1233.22it/s]\n",
      "\n",
      "\n",
      "\n",
      "RAKE:  84%|██████████████████████████████████████████████████████████▌           | 6467/7736 [00:04<00:00, 1308.80it/s]\n",
      "\n",
      "\n",
      "\n",
      "RAKE:  85%|███████████████████████████████████████████████████████████▋          | 6601/7736 [00:04<00:00, 1227.50it/s]\n",
      "\n",
      "\n",
      "\n",
      "RAKE:  87%|████████████████████████████████████████████████████████████▊         | 6727/7736 [00:05<00:00, 1105.02it/s]\n",
      "\n",
      "\n",
      "\n",
      "RAKE:  88%|█████████████████████████████████████████████████████████████▉        | 6843/7736 [00:05<00:00, 1091.30it/s]\n",
      "\n",
      "\n",
      "\n",
      "RAKE:  90%|██████████████████████████████████████████████████████████████▉       | 6956/7736 [00:05<00:00, 1073.33it/s]\n",
      "\n",
      "\n",
      "\n",
      "RAKE:  91%|███████████████████████████████████████████████████████████████▉      | 7066/7736 [00:05<00:00, 1052.09it/s]\n",
      "\n",
      "\n",
      "\n",
      "RAKE:  93%|█████████████████████████████████████████████████████████████████▎    | 7219/7736 [00:05<00:00, 1136.76it/s]\n",
      "\n",
      "\n",
      "\n",
      "RAKE:  95%|██████████████████████████████████████████████████████████████████▊   | 7382/7736 [00:05<00:00, 1223.91it/s]\n",
      "\n",
      "\n",
      "\n",
      "RAKE:  97%|███████████████████████████████████████████████████████████████████▉  | 7509/7736 [00:05<00:00, 1204.49it/s]\n",
      "\n",
      "\n",
      "\n",
      "RAKE:  99%|█████████████████████████████████████████████████████████████████████ | 7633/7736 [00:05<00:00, 1131.85it/s]\n",
      "\n",
      "\n",
      "\n",
      "RAKE: 100%|██████████████████████████████████████████████████████████████████████| 7736/7736 [00:05<00:00, 1313.58it/s]\n",
      "\n",
      "\n",
      "twitter: 100%|███████████████████████████████████████████████████████████████████████████| 1/1 [00:06<00:00,  6.11s/it]\n",
      "\n",
      "\n",
      "\n",
      "Datasets:  50%|█████████████████████████████████████                                     | 1/2 [00:17<00:17, 17.42s/it]\n",
      "\n",
      "Building Ground Truth (500N-KPCrowd-v1.1):   0%|                                               | 0/500 [00:00<?, ?it/s]\n",
      "\n"
     ]
    },
    {
     "name": "stderr",
     "output_type": "stream",
     "text": [
      "Building Ground Truth (500N-KPCrowd-v1.1):   2%|▉                                    | 12/500 [00:00<00:04, 109.74it/s]\n",
      "\n",
      "Building Ground Truth (500N-KPCrowd-v1.1):   5%|█▊                                   | 25/500 [00:00<00:04, 112.33it/s]\n",
      "\n",
      "Building Ground Truth (500N-KPCrowd-v1.1):   7%|██▌                                  | 35/500 [00:00<00:04, 105.13it/s]\n",
      "\n",
      "Building Ground Truth (500N-KPCrowd-v1.1):  10%|███▋                                 | 49/500 [00:00<00:04, 111.09it/s]\n",
      "\n",
      "Building Ground Truth (500N-KPCrowd-v1.1):  12%|████▎                                | 59/500 [00:00<00:04, 104.37it/s]\n",
      "\n",
      "Building Ground Truth (500N-KPCrowd-v1.1):  14%|█████▏                               | 70/500 [00:00<00:04, 103.21it/s]\n",
      "\n",
      "Building Ground Truth (500N-KPCrowd-v1.1):  16%|█████▉                               | 81/500 [00:00<00:04, 102.41it/s]\n",
      "\n",
      "Building Ground Truth (500N-KPCrowd-v1.1):  19%|██████▉                              | 94/500 [00:00<00:03, 106.85it/s]\n",
      "\n",
      "Building Ground Truth (500N-KPCrowd-v1.1):  21%|███████▌                            | 105/500 [00:00<00:03, 104.89it/s]\n",
      "\n",
      "Building Ground Truth (500N-KPCrowd-v1.1):  23%|████████▎                           | 116/500 [00:01<00:03, 103.57it/s]\n",
      "\n",
      "Building Ground Truth (500N-KPCrowd-v1.1):  25%|█████████▍                           | 127/500 [00:01<00:03, 98.35it/s]\n",
      "\n",
      "Building Ground Truth (500N-KPCrowd-v1.1):  29%|██████████▎                         | 143/500 [00:01<00:03, 109.08it/s]\n",
      "\n",
      "Building Ground Truth (500N-KPCrowd-v1.1):  31%|███████████▏                        | 155/500 [00:01<00:03, 109.28it/s]\n",
      "\n",
      "Building Ground Truth (500N-KPCrowd-v1.1):  33%|████████████                        | 167/500 [00:01<00:03, 109.42it/s]\n",
      "\n",
      "Building Ground Truth (500N-KPCrowd-v1.1):  36%|█████████████                       | 181/500 [00:01<00:02, 114.41it/s]\n",
      "\n",
      "Building Ground Truth (500N-KPCrowd-v1.1):  39%|██████████████                      | 195/500 [00:01<00:02, 118.18it/s]\n",
      "\n",
      "Building Ground Truth (500N-KPCrowd-v1.1):  42%|███████████████                     | 210/500 [00:01<00:02, 123.30it/s]\n",
      "\n",
      "Building Ground Truth (500N-KPCrowd-v1.1):  45%|████████████████▏                   | 225/500 [00:01<00:02, 127.15it/s]\n",
      "\n",
      "Building Ground Truth (500N-KPCrowd-v1.1):  48%|█████████████████▏                  | 239/500 [00:02<00:02, 127.42it/s]\n",
      "\n",
      "Building Ground Truth (500N-KPCrowd-v1.1):  51%|██████████████████▌                 | 257/500 [00:02<00:01, 136.69it/s]\n",
      "\n",
      "Building Ground Truth (500N-KPCrowd-v1.1):  55%|███████████████████▊                | 276/500 [00:02<00:01, 146.03it/s]\n",
      "\n",
      "Building Ground Truth (500N-KPCrowd-v1.1):  59%|█████████████████████▍              | 297/500 [00:02<00:01, 157.34it/s]\n",
      "\n",
      "Building Ground Truth (500N-KPCrowd-v1.1):  63%|██████████████████████▌             | 314/500 [00:02<00:01, 150.26it/s]\n",
      "\n",
      "Building Ground Truth (500N-KPCrowd-v1.1):  66%|███████████████████████▊            | 330/500 [00:02<00:01, 142.84it/s]\n",
      "\n",
      "Building Ground Truth (500N-KPCrowd-v1.1):  69%|████████████████████████▉           | 346/500 [00:02<00:01, 143.86it/s]\n",
      "\n",
      "Building Ground Truth (500N-KPCrowd-v1.1):  72%|█████████████████████████▉          | 361/500 [00:02<00:01, 125.16it/s]\n",
      "\n",
      "Building Ground Truth (500N-KPCrowd-v1.1):  75%|███████████████████████████         | 375/500 [00:03<00:01, 111.85it/s]\n",
      "\n",
      "Building Ground Truth (500N-KPCrowd-v1.1):  78%|███████████████████████████▉        | 388/500 [00:03<00:00, 113.87it/s]\n",
      "\n",
      "Building Ground Truth (500N-KPCrowd-v1.1):  80%|█████████████████████████████▌       | 400/500 [00:03<00:01, 99.48it/s]\n",
      "\n",
      "Building Ground Truth (500N-KPCrowd-v1.1):  83%|█████████████████████████████▉      | 415/500 [00:03<00:00, 108.42it/s]\n",
      "\n",
      "Building Ground Truth (500N-KPCrowd-v1.1):  86%|██████████████████████████████▊     | 428/500 [00:03<00:00, 111.36it/s]\n",
      "\n",
      "Building Ground Truth (500N-KPCrowd-v1.1):  88%|███████████████████████████████▋    | 440/500 [00:03<00:00, 110.87it/s]\n",
      "\n",
      "Building Ground Truth (500N-KPCrowd-v1.1):  90%|████████████████████████████████▌   | 452/500 [00:03<00:00, 110.53it/s]\n",
      "\n",
      "Building Ground Truth (500N-KPCrowd-v1.1):  93%|█████████████████████████████████▍  | 464/500 [00:03<00:00, 110.29it/s]\n",
      "\n",
      "Building Ground Truth (500N-KPCrowd-v1.1):  95%|██████████████████████████████████▎ | 476/500 [00:04<00:00, 110.12it/s]\n",
      "\n",
      "Building Ground Truth (500N-KPCrowd-v1.1):  98%|███████████████████████████████████▎| 490/500 [00:04<00:00, 114.95it/s]\n",
      "\n",
      "Building Ground Truth (500N-KPCrowd-v1.1): 100%|████████████████████████████████████| 500/500 [00:04<00:00, 118.55it/s]\n",
      "\n",
      "\n",
      "500N-KPCrowd-v1.1:   0%|                                                                         | 0/1 [00:00<?, ?it/s]\n",
      "\n",
      "\n",
      "\n",
      "RAKE:   0%|                                                                                    | 0/500 [00:00<?, ?it/s]\n",
      "\n",
      "\n",
      "\n",
      "RAKE:   8%|██████▏                                                                   | 42/500 [00:00<00:01, 384.10it/s]\n",
      "\n",
      "\n",
      "\n",
      "RAKE:  17%|████████████▎                                                             | 83/500 [00:00<00:01, 381.30it/s]\n",
      "\n",
      "\n",
      "\n",
      "RAKE:  26%|███████████████████▏                                                     | 131/500 [00:00<00:00, 396.93it/s]\n",
      "\n",
      "\n",
      "\n",
      "RAKE:  35%|█████████████████████████▎                                               | 173/500 [00:00<00:00, 393.01it/s]\n",
      "\n",
      "\n",
      "\n",
      "RAKE:  42%|██████████████████████████████▉                                          | 212/500 [00:00<00:00, 381.34it/s]\n",
      "\n",
      "\n",
      "\n",
      "RAKE:  49%|███████████████████████████████████▌                                     | 244/500 [00:00<00:00, 317.09it/s]\n",
      "\n",
      "\n",
      "\n",
      "RAKE:  56%|█████████████████████████████████████████                                | 281/500 [00:00<00:00, 323.18it/s]\n",
      "\n",
      "\n",
      "\n",
      "RAKE:  62%|█████████████████████████████████████████████▌                           | 312/500 [00:00<00:00, 310.16it/s]\n",
      "\n",
      "\n",
      "\n",
      "RAKE:  68%|█████████████████████████████████████████████████▉                       | 342/500 [00:01<00:00, 298.48it/s]\n",
      "\n",
      "\n",
      "\n",
      "RAKE:  74%|██████████████████████████████████████████████████████▎                  | 372/500 [00:01<00:00, 246.09it/s]\n",
      "\n",
      "\n",
      "\n",
      "RAKE:  80%|██████████████████████████████████████████████████████████               | 398/500 [00:01<00:00, 223.87it/s]\n",
      "\n",
      "\n",
      "\n",
      "RAKE:  84%|█████████████████████████████████████████████████████████████▌           | 422/500 [00:01<00:00, 213.27it/s]\n",
      "\n",
      "\n",
      "\n",
      "RAKE:  89%|████████████████████████████████████████████████████████████████▉        | 445/500 [00:01<00:00, 203.57it/s]\n",
      "\n",
      "\n",
      "\n",
      "RAKE:  95%|█████████████████████████████████████████████████████████████████████▎   | 475/500 [00:01<00:00, 220.65it/s]\n",
      "\n",
      "\n",
      "\n",
      "RAKE: 100%|████████████████████████████████████████████████████████████████████████▋| 498/500 [00:01<00:00, 191.94it/s]\n",
      "\n",
      "\n",
      "\n",
      "RAKE: 100%|█████████████████████████████████████████████████████████████████████████| 500/500 [00:01<00:00, 268.97it/s]\n",
      "\n",
      "\n",
      "500N-KPCrowd-v1.1: 100%|█████████████████████████████████████████████████████████████████| 1/1 [00:01<00:00,  1.94s/it]\n",
      "\n",
      "\n",
      "\n",
      "Datasets: 100%|██████████████████████████████████████████████████████████████████████████| 2/2 [00:23<00:00, 14.08s/it]\n"
     ]
    },
    {
     "name": "stdout",
     "output_type": "stream",
     "text": [
      "\n",
      "\n"
     ]
    }
   ],
   "source": [
    "#Define o folder dos datasets a partir. Dentro do folder vai encontrar Key (que contém as keys dos anotadores...ground-truth)\n",
    "twitter = '../Datasets/twitter/'\n",
    "KPCrowd = '../Datasets/500N-KPCrowd-v1.1/'\n",
    "\n",
    "#Define o folder onde se encontram as keywords\n",
    "kwPath = '../Algorithms/RAKE/keywords'\n",
    "\n",
    "#define o folder onde se guardam os resultados\n",
    "oPath = \"../conversor/output/\"\n",
    "\n",
    "algo = \"RAKE\"\n",
    "\n",
    "%run ../conversor/convert2trec.py -datasetsPath $twitter $KPCrowd -keywordsPath $kwPath -outputPath $oPath -algorithm $algo"
   ]
  },
  {
   "cell_type": "markdown",
   "metadata": {},
   "source": [
    "### Run sigtrec_eval"
   ]
  },
  {
   "cell_type": "markdown",
   "metadata": {},
   "source": [
    "sigtrec_eval is a [trec_eval](https://trec.nist.gov/trec_eval/) python-wrapper that get the output, process, and present in a clear and configurable format."
   ]
  },
  {
   "cell_type": "markdown",
   "metadata": {},
   "source": [
    "A primeira coisa a fazer é instalar o trec_eval. Faça um clone ou download do projeto alojado no [github](https://github.com/usnistgov/trec_eval) para um qualquer folder do seu PC."
   ]
  },
  {
   "cell_type": "markdown",
   "metadata": {},
   "source": [
    "Para instalar no Linux basta dentro do folder executar o seguinte comando `make`. Isto vai gerar um ficheiro trec_eval que deverá colocar na pasta do sigtrec_eval (que se encontra um folder acima deste notebook)."
   ]
  },
  {
   "cell_type": "markdown",
   "metadata": {},
   "source": [
    "Para instalar no Windows deve primeiro instalar o `cygwin`. Quando proceder à instalação tome nota do seguinte:\n",
    "- You will need make and gcc installed by Cygwin. To achieve this, on top of the default Cygwin installation, it is recommended to install `automake`, `make`, `gcc`, `cygwin-gcc` and `git` from the Develop category, and permitting dependencies to be installed."
   ]
  },
  {
   "cell_type": "markdown",
   "metadata": {},
   "source": [
    "Para compilar o `trec_eval`, abra o termina do `Cygwin` abrindo o ficheiro Cygwin.bat que se encontra dentro do folder do Cygwin. Dentro do terminal navegue para dentro do folder do trec_eval e execute o comando `make`. Aguarde que o ficheiro trec_eval.exe seja gerado. De seguida copie o ficheiro para o folder do sigtrec_eval (que se encontra um nível acima deste notebook)."
   ]
  },
  {
   "cell_type": "markdown",
   "metadata": {},
   "source": [
    "Finalmente, vá ao folder `/bin` do cygwin e copie o ficheiro `cygwin1.dll` para o folder do `sigtrec_eval` (que se encontra um nível acima deste notebook). Uma descrição completa da instalação do trec_eval em ambientes windows pode ser encontrada [aqui](https://github.com/usnistgov/trec_eval/blob/master/README.windows.md). Se quisessemos usar o trec_eval diretamente poderiamos fazê-lo no cygwin1. No entanto vamos usa o wrapper do sigtrec_eval desenvolvido pelo Vítor."
   ]
  },
  {
   "cell_type": "markdown",
   "metadata": {},
   "source": [
    "Para testarmos o `sigtrec_eval` vamos fazer uso de 4 ficheiros disponíveis no folder `/sigtrec_eval/example`:\n",
    "- qrelFile.qrel: é o ground-truth (no formato trec_eval)\n",
    "- baseline: é o ficheiro de output baseline (no formato trec_eval)\n",
    "- result_to_compare1: é o ficheiro de output de outro algoritmo (no formato trec_eval)\n",
    "- result_to_compare2: é o ficheiro de output de ainda outro algoritmo (no formato trec_eval)"
   ]
  },
  {
   "cell_type": "markdown",
   "metadata": {},
   "source": [
    "No código abaixo: \n",
    "- `cli.py` é um script que também chama o ficheiro `sigtrec_eval.py` existente na mesma diretoria.\n",
    "- -i é o parâmetro que indica os ficheiros de input, pela seguinte ordem: (qrel - groundtruth; resultados do baseline; resultados dos restantes algoritmos a comparar - se houver). Note-se que neste caso o baseline deve ser entendido como a nossa proposta, no sentido em que vai ser o baseline de comparação em termos estatísticos com os outros metodos\n",
    "- -m método de avaliação, e.g., map.10; P.10; recall.10; F1\n",
    "- -s teste estatístico, e.g., ttest student, wilcoxon\n",
    "- -f formato de impressão dos resultados. Opções: ['csv', 'html', 'json', 'latex', 'sql', 'string']"
   ]
  },
  {
   "cell_type": "markdown",
   "metadata": {},
   "source": [
    "Basicamente o sistema vai contabilizar como acerto, sempre que para o mesmo documento encontrar as mesmas keywords (no qrel e no out)."
   ]
  },
  {
   "cell_type": "code",
   "execution_count": null,
   "metadata": {},
   "outputs": [],
   "source": [
    "qrelPath = \"../sigtrec_eval/example/qrelFile.qrel\"\n",
    "baselinePath = \"../sigtrec_eval/example/baseline\"\n",
    "method1Path = \"../sigtrec_eval/example/result_to_compare1\"\n",
    "method2Path = \"../sigtrec_eval/example/result_to_compare2\"\n",
    "\n",
    "%run ../sigtrec_eval/cli.py -i $qrelPath $baselinePath $method1Path $method2Path -m map.10 P.10 recall.10 F1 -s student"
   ]
  },
  {
   "cell_type": "markdown",
   "metadata": {},
   "source": [
    "Se tudo estiver a funcionar podemos agora testar para duas coleções. Primeiro a do `500N-KPCrowd-v1.1` e de seguida a do `twitter`."
   ]
  },
  {
   "cell_type": "code",
   "execution_count": 2,
   "metadata": {},
   "outputs": [
    {
     "name": "stdout",
     "output_type": "stream",
     "text": [
      "100.00%%\n",
      "                          app         F1_10          P_10           map     recall_10\n",
      "0  500N-KPCrowd-v1.1_RAKE.out  0.031300 bl   0.081200 bl   0.009900 bl   0.020200 bl \n"
     ]
    }
   ],
   "source": [
    "qrelPath = \"../conversor/output/500N-KPCrowd-v1.1.qrel\"\n",
    "baselinePath = \"../conversor/output/500N-KPCrowd-v1.1_RAKE.out\"\n",
    "\n",
    "%run ../sigtrec_eval/cli.py -i $qrelPath $baselinePath -m map.10 P.10 recall.10 F1 -s student"
   ]
  },
  {
   "cell_type": "code",
   "execution_count": null,
   "metadata": {},
   "outputs": [],
   "source": [
    "qrelPath = \"../conversor/output/twitter.qrel\"\n",
    "baselinePath = \"../conversor/output/twitter.out\"\n",
    "\n",
    "%run ../sigtrec_eval/cli.py -i $qrelPath $baselinePath -m map.10 P.10 recall.10 F1 -s student"
   ]
  }
 ],
 "metadata": {
  "kernelspec": {
   "display_name": "Python 3",
   "language": "python",
   "name": "python3"
  },
  "language_info": {
   "codemirror_mode": {
    "name": "ipython",
    "version": 3
   },
   "file_extension": ".py",
   "mimetype": "text/x-python",
   "name": "python",
   "nbconvert_exporter": "python",
   "pygments_lexer": "ipython3",
   "version": "3.6.5"
  },
  "toc": {
   "base_numbering": 1,
   "nav_menu": {},
   "number_sections": true,
   "sideBar": true,
   "skip_h1_title": true,
   "title_cell": "Table of Contents",
   "title_sidebar": "Contents",
   "toc_cell": true,
   "toc_position": {},
   "toc_section_display": true,
   "toc_window_display": true
  }
 },
 "nbformat": 4,
 "nbformat_minor": 2
}
